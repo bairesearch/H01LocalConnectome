{
  "nbformat": 4,
  "nbformat_minor": 0,
  "metadata": {
    "accelerator": "GPU",
    "colab": {
      "name": "autoencoder-corticalLearningAlgorithmSimulation2.ipynb",
      "provenance": [],
      "collapsed_sections": [],
      "toc_visible": true
    },
    "kernelspec": {
      "display_name": "Python 3",
      "name": "python3"
    }
  },
  "cells": [
    {
      "cell_type": "markdown",
      "metadata": {
        "id": "Ndo4ERqnwQOU"
      },
      "source": [
        "##### Copyright 2020 The TensorFlow Authors."
      ]
    },
    {
      "cell_type": "code",
      "metadata": {
        "cellView": "form",
        "id": "MTKwbguKwT4R"
      },
      "source": [
        "#@title Licensed under the Apache License, Version 2.0 (the \"License\");\n",
        "# you may not use this file except in compliance with the License.\n",
        "# You may obtain a copy of the License at\n",
        "#\n",
        "# https://www.apache.org/licenses/LICENSE-2.0\n",
        "#\n",
        "# Unless required by applicable law or agreed to in writing, software\n",
        "# distributed under the License is distributed on an \"AS IS\" BASIS,\n",
        "# WITHOUT WARRANTIES OR CONDITIONS OF ANY KIND, either express or implied.\n",
        "# See the License for the specific language governing permissions and\n",
        "# limitations under the License."
      ],
      "execution_count": null,
      "outputs": []
    },
    {
      "cell_type": "markdown",
      "metadata": {
        "id": "xfNT-mlFwxVM"
      },
      "source": [
        "# Intro to Autoencoders"
      ]
    },
    {
      "cell_type": "markdown",
      "metadata": {
        "id": "0TD5ZrvEMbhZ"
      },
      "source": [
        "<table class=\"tfo-notebook-buttons\" align=\"left\">\n",
        "  <td>\n",
        "    <a target=\"_blank\" href=\"https://www.tensorflow.org/tutorials/generative/autoencoder\">\n",
        "    <img src=\"https://www.tensorflow.org/images/tf_logo_32px.png\" />\n",
        "    View on TensorFlow.org</a>\n",
        "  </td>\n",
        "  <td>\n",
        "    <a target=\"_blank\" href=\"https://colab.research.google.com/github/tensorflow/docs/blob/master/site/en/tutorials/generative/autoencoder.ipynb\">\n",
        "    <img src=\"https://www.tensorflow.org/images/colab_logo_32px.png\" />\n",
        "    Run in Google Colab</a>\n",
        "  </td>\n",
        "  <td>\n",
        "    <a target=\"_blank\" href=\"https://github.com/tensorflow/docs/blob/master/site/en/tutorials/generative/autoencoder.ipynb\">\n",
        "    <img src=\"https://www.tensorflow.org/images/GitHub-Mark-32px.png\" />\n",
        "    View source on GitHub</a>\n",
        "  </td>\n",
        "  <td>\n",
        "    <a href=\"https://storage.googleapis.com/tensorflow_docs/docs/site/en/tutorials/generative/autoencoder.ipynb\"><img src=\"https://www.tensorflow.org/images/download_logo_32px.png\" />Download notebook</a>\n",
        "  </td>\n",
        "</table>"
      ]
    },
    {
      "cell_type": "markdown",
      "metadata": {
        "id": "ITZuApL56Mny"
      },
      "source": [
        "This tutorial introduces autoencoders with three examples: the basics, image denoising, and anomaly detection.\n",
        "\n",
        "An autoencoder is a special type of neural network that is trained to copy its input to its output. For example, given an image of a handwritten digit, an autoencoder first encodes the image into a lower dimensional latent representation, then decodes the latent representation back to an image. An autoencoder learns to compress the data while minimizing the reconstruction error. \n",
        "\n",
        "To learn more about autoencoders, please consider reading chapter 14 from [Deep Learning](https://www.deeplearningbook.org/) by Ian Goodfellow, Yoshua Bengio, and Aaron Courville."
      ]
    },
    {
      "cell_type": "markdown",
      "metadata": {
        "id": "e1_Y75QXJS6h"
      },
      "source": [
        "## Import TensorFlow and other libraries"
      ]
    },
    {
      "cell_type": "code",
      "metadata": {
        "id": "YfIk2es3hJEd"
      },
      "source": [
        "import matplotlib.pyplot as plt\n",
        "import numpy as np\n",
        "import pandas as pd\n",
        "import tensorflow as tf\n",
        "\n",
        "from sklearn.metrics import accuracy_score, precision_score, recall_score\n",
        "from sklearn.model_selection import train_test_split\n",
        "from tensorflow.keras import layers, losses\n",
        "from tensorflow.keras.datasets import fashion_mnist\n",
        "from tensorflow.keras.models import Model"
      ],
      "execution_count": null,
      "outputs": []
    },
    {
      "cell_type": "markdown",
      "metadata": {
        "id": "iYn4MdZnKCey"
      },
      "source": [
        "## Load the dataset\n",
        "To start, you will train the basic autoencoder using the Fashon MNIST dataset. Each image in this dataset is 28x28 pixels. "
      ]
    },
    {
      "cell_type": "code",
      "metadata": {
        "id": "YZm503-I_tji",
        "colab": {
          "base_uri": "https://localhost:8080/"
        },
        "outputId": "4e232234-ca01-4815-9f24-4a5e2f5645a0"
      },
      "source": [
        "(x_train, _), (x_test, _) = fashion_mnist.load_data()\n",
        "\n",
        "x_train = x_train.astype('float32') / 255.\n",
        "x_test = x_test.astype('float32') / 255.\n",
        "\n",
        "print (x_train.shape)\n",
        "print (x_test.shape)"
      ],
      "execution_count": null,
      "outputs": [
        {
          "output_type": "stream",
          "name": "stdout",
          "text": [
            "Downloading data from https://storage.googleapis.com/tensorflow/tf-keras-datasets/train-labels-idx1-ubyte.gz\n",
            "32768/29515 [=================================] - 0s 0us/step\n",
            "40960/29515 [=========================================] - 0s 0us/step\n",
            "Downloading data from https://storage.googleapis.com/tensorflow/tf-keras-datasets/train-images-idx3-ubyte.gz\n",
            "26427392/26421880 [==============================] - 0s 0us/step\n",
            "26435584/26421880 [==============================] - 0s 0us/step\n",
            "Downloading data from https://storage.googleapis.com/tensorflow/tf-keras-datasets/t10k-labels-idx1-ubyte.gz\n",
            "16384/5148 [===============================================================================================] - 0s 0us/step\n",
            "Downloading data from https://storage.googleapis.com/tensorflow/tf-keras-datasets/t10k-images-idx3-ubyte.gz\n",
            "4423680/4422102 [==============================] - 0s 0us/step\n",
            "4431872/4422102 [==============================] - 0s 0us/step\n",
            "(60000, 28, 28)\n",
            "(10000, 28, 28)\n"
          ]
        }
      ]
    },
    {
      "cell_type": "markdown",
      "metadata": {
        "id": "VEdCXSwCoKok"
      },
      "source": [
        "## First example: Basic autoencoder\n",
        "![Basic autoencoder results](https://github.com/tensorflow/docs/blob/master/site/en/tutorials/generative/images/intro_autoencoder_result.png?raw=1)\n",
        "\n",
        "Define an autoencoder with two Dense layers: an `encoder`, which compresses the images into a 64 dimensional latent vector, and a `decoder`, that reconstructs the original image from the latent space.\n",
        "\n",
        "To define your model, use the [Keras Model Subclassing API](https://www.tensorflow.org/guide/keras/custom_layers_and_models).\n"
      ]
    },
    {
      "cell_type": "markdown",
      "metadata": {
        "id": "sOeCLOiVpToT"
      },
      "source": [
        "#old code (single layer)\n",
        "\n",
        "imageSize = (28, 28)\n",
        "simulateCorticalCircuit = True\n",
        "firstLayerMultiplier = 2  #limited by tensorflow GPU memory\n",
        "if(simulateCorticalCircuit):\n",
        "  onlyTrainFinalLayer = True\n",
        "  latent_dim = 64*firstLayerMultiplier #640 \n",
        "else:\n",
        "  onlyTrainFinalLayer = False\n",
        "  latent_dim = 64 \n",
        "\n",
        "class Autoencoder(Model):\n",
        "  def __init__(self, latent_dim):\n",
        "    super(Autoencoder, self).__init__()\n",
        "    self.latent_dim = latent_dim   \n",
        "    self.encoder = tf.keras.Sequential([\n",
        "      layers.Flatten(),\n",
        "      layers.Dense(latent_dim, activation='relu'),\n",
        "    ])\n",
        "    self.decoder = tf.keras.Sequential([\n",
        "      layers.Dense(784, activation='sigmoid'),\n",
        "      layers.Reshape((28, 28))\n",
        "    ])\n",
        "\n",
        "  def call(self, x):\n",
        "    encoded = self.encoder(x)\n",
        "    if(onlyTrainFinalLayer):\n",
        "      encoded = tf.stop_gradient(encoded)\n",
        "    decoded = self.decoder(encoded)\n",
        "    return decoded\n",
        "  \n",
        "autoencoder = Autoencoder(latent_dim) "
      ]
    },
    {
      "cell_type": "code",
      "metadata": {
        "id": "0MUxidpyChjX"
      },
      "source": [
        "imageSize = (28, 28)\n",
        "multipleLayers = True\n",
        "residualConnections = False\n",
        "simulateCorticalCircuit = True\n",
        "firstLayerMultiplier = 2  #limited by tensorflow GPU memory\n",
        "if(simulateCorticalCircuit):\n",
        "  onlyTrainFinalLayer = True\n",
        "else:\n",
        "  onlyTrainFinalLayer = False\n",
        "\n",
        "latent_dim0 = 64\n",
        "latent_dim1 = 64\n",
        "latent_dim2 = 64\n",
        "latent_dim3 = 64\n",
        "latent_dim4 = 64\n",
        "latent_dim5 = 64\n",
        "latent_dim6 = 64\n",
        "if(residualConnections):\n",
        "  latent_dim0intermediate = latent_dim0\n",
        "  latent_dim1intermediate = latent_dim1*6\n",
        "  latent_dim2intermediate = latent_dim2*5\n",
        "  latent_dim3intermediate = latent_dim3*4\n",
        "  latent_dim4intermediate = latent_dim4*3\n",
        "  latent_dim5intermediate = latent_dim5*2\n",
        "  latent_dim6intermediate = latent_dim6*1\n",
        "else:\n",
        "  latent_dim0intermediate = latent_dim0\n",
        "  latent_dim1intermediate = latent_dim1\n",
        "  latent_dim2intermediate = latent_dim2\n",
        "  latent_dim3intermediate = latent_dim3\n",
        "  latent_dim4intermediate = latent_dim4\n",
        "  latent_dim5intermediate = latent_dim5\n",
        "  latent_dim6intermediate = latent_dim6\n",
        "  \n",
        "\n",
        "class AutoencoderL0(Model):\n",
        "  def __init__(self, latent_dim, io_dim):\n",
        "    super(Autoencoder, self).__init__()\n",
        "    self.latent_dim = latent_dim\n",
        "    self.encoder = tf.keras.Sequential([\n",
        "      layers.Flatten(),\n",
        "      #layers.Dense(latent_dim, activation='relu'),\n",
        "      layers.Dense(latent_dim, activation=None),\n",
        "      #layers.Activation('relu'),\n",
        "    ])\n",
        "    #self.encoderact = tf.keras.Sequential([layers.Activation('relu'),])\n",
        "    #self.encoderact = layers.Activation('relu')  \n",
        "    #self.encoderactB = layers.ReLU()\n",
        "    self.decoder = tf.keras.Sequential([\n",
        "      layers.Dense(io_dim[0]*io_dim[1], activation='sigmoid'),\n",
        "      layers.Reshape((io_dim[0], io_dim[1]))\n",
        "    ])\n",
        "    if(residualConnections):\n",
        "      self.decodercollapseResidualConnections = tf.keras.Sequential([layers.Dense(latent_dim, activation='relu'),]) \n",
        "\n",
        "  def call(self, x, decodedBelow, decodedBelowAll):\n",
        "    if(multipleLayers):\n",
        "      encodedinput = self.encoder(x[0])\n",
        "      encoded = tf.keras.layers.Average()([encodedinput, decodedBelow])\n",
        "      #encoded = self.encoder0act(encoded)\n",
        "    else:\n",
        "      encodedinput = x\n",
        "      encodedinput = self.encoder(encodedinput)\n",
        "      #encodedinput = self.encoderact(encodedinput)\n",
        "      #encoded = tf.keras.activations.relu(encodedinput)\n",
        "      #encoded = self.encoderactB(encodedinput)\n",
        "      #tf.nn.relu(encodedinput)\n",
        "      encoded = encodedinput\t\n",
        "    if(onlyTrainFinalLayer):\n",
        "      encoded = tf.stop_gradient(encoded)     \n",
        "    if(residualConnections):\n",
        "      encoded = tf.keras.layers.Concatenate()([encoded, decodedBelowAll) #residual connections\n",
        "      encoded = self.decodercollapseResidualConnections(encoded)       \n",
        "    decoded = self.decoder(encoded)\n",
        "    return decoded\n",
        "\n",
        "\n",
        "class AutoencoderLX(Model):\n",
        "  def __init__(self, latent_dim, io_dim):\n",
        "    super(Autoencoder, self).__init__()\n",
        "    self.latent_dim = latent_dim   \n",
        "    self.encoder = tf.keras.Sequential([layers.Flatten(), layers.Dense(latent_dim, activation=None),])\n",
        "    self.decoder = tf.keras.Sequential([layers.Dense(io_dim, activation='relu'),])\n",
        "    self.encoderact = tf.keras.layers.Activation('relu')\n",
        "\n",
        "  def call(self, x, decodedBelow, decodedBelowAll): \n",
        "    encodedinput = self.encoder(x[0])\n",
        "    encoded = tf.keras.layers.Average()([encoded1input, decodedBelow])\n",
        "    #encoded = self.encoderact(encoded)\n",
        "    if(onlyTrainFinalLayer):\n",
        "      encoded = tf.stop_gradient(encoded)\n",
        "    if(residualConnections):\n",
        "      encoded = tf.keras.layers.Concatenate()([encoded, decodedBelowAll]) #residual connections\n",
        "    decoded = self.decoder(encoded)\n",
        "    return decoded\n",
        "  \n",
        "autoencoderL0 = AutoencoderL0(latent_dim0, imageSize)\n",
        "autoencoderL1 = AutoencoderLX(latent_dim1, latent_dim0)\n",
        "autoencoderL2 = AutoencoderLX(latent_dim2, latent_dim1)\n",
        "autoencoderL3 = AutoencoderLX(latent_dim3, latent_dim2)\n",
        "autoencoderL4 = AutoencoderLX(latent_dim4, latent_dim3)\n",
        "autoencoderL5 = AutoencoderLX(latent_dim5, latent_dim4)\n",
        "autoencoderL6 = AutoencoderLX(latent_dim6, latent_dim5)"
      ],
      "execution_count": null,
      "outputs": []
    },
    {
      "cell_type": "code",
      "metadata": {
        "id": "9I1JlqEIDCI4"
      },
      "source": [
        "autoencoderL0.compile(optimizer='adam', loss=losses.MeanSquaredError())\n",
        "autoencoderL1.compile(optimizer='adam', loss=losses.MeanSquaredError())\n",
        "autoencoderL2.compile(optimizer='adam', loss=losses.MeanSquaredError())\n",
        "autoencoderL3.compile(optimizer='adam', loss=losses.MeanSquaredError())\n",
        "autoencoderL4.compile(optimizer='adam', loss=losses.MeanSquaredError())\n",
        "autoencoderL5.compile(optimizer='adam', loss=losses.MeanSquaredError())\n",
        "autoencoderL6.compile(optimizer='adam', loss=losses.MeanSquaredError())\n"
      ],
      "execution_count": null,
      "outputs": []
    },
    {
      "cell_type": "markdown",
      "metadata": {
        "id": "7oJSeMTroABs"
      },
      "source": [
        "Train the model using `x_train` as both the input and the target. The `encoder` will learn to compress the dataset from 784 dimensions to the latent space, and the `decoder` will learn to reconstruct the original images.\n",
        "."
      ]
    },
    {
      "cell_type": "code",
      "metadata": {
        "id": "h1RI9OfHDBsK",
        "colab": {
          "base_uri": "https://localhost:8080/"
        },
        "outputId": "5fc0585c-a9e2-4e33-c5b4-b243b424ed3b"
      },
      "source": [
        "x0 = [x_train]\n",
        "autoencoderL6.fit(x_train, x_train, epochs=10, shuffle=True, validation_data=(x_test, x_test))\n",
        "autoencoderL5.fit(x_train, x_train, epochs=10, shuffle=True, validation_data=(x_test, x_test))\n",
        "autoencoderL4.fit(x_train, x_train, epochs=10, shuffle=True, validation_data=(x_test, x_test))\n",
        "autoencoderL3.fit(x_train, x_train, epochs=10, shuffle=True, validation_data=(x_test, x_test))\n",
        "autoencoderL2.fit(x_train, x_train, epochs=10, shuffle=True, validation_data=(x_test, x_test))\n",
        "autoencoderL1.fit(x_train, x_train, epochs=10, shuffle=True, validation_data=(x_test, x_test))\n",
        "autoencoderL0.fit(x_train, x_train, epochs=10, shuffle=True, validation_data=(x_test, x_test))"
      ],
      "execution_count": null,
      "outputs": [
        {
          "output_type": "stream",
          "name": "stdout",
          "text": [
            "Epoch 1/10\n",
            "WARNING:tensorflow:Gradients do not exist for variables ['dense_18/kernel:0', 'dense_18/bias:0', 'dense_20/kernel:0', 'dense_20/bias:0', 'dense_21/kernel:0', 'dense_21/bias:0', 'dense_22/kernel:0', 'dense_22/bias:0', 'dense_23/kernel:0', 'dense_23/bias:0', 'dense_24/kernel:0', 'dense_24/bias:0', 'dense_25/kernel:0', 'dense_25/bias:0', 'dense_26/kernel:0', 'dense_26/bias:0', 'dense_27/kernel:0', 'dense_27/bias:0', 'dense_28/kernel:0', 'dense_28/bias:0', 'dense_29/kernel:0', 'dense_29/bias:0', 'dense_30/kernel:0', 'dense_30/bias:0', 'dense_31/kernel:0', 'dense_31/bias:0'] when minimizing the loss.\n",
            "WARNING:tensorflow:Gradients do not exist for variables ['dense_18/kernel:0', 'dense_18/bias:0', 'dense_20/kernel:0', 'dense_20/bias:0', 'dense_21/kernel:0', 'dense_21/bias:0', 'dense_22/kernel:0', 'dense_22/bias:0', 'dense_23/kernel:0', 'dense_23/bias:0', 'dense_24/kernel:0', 'dense_24/bias:0', 'dense_25/kernel:0', 'dense_25/bias:0', 'dense_26/kernel:0', 'dense_26/bias:0', 'dense_27/kernel:0', 'dense_27/bias:0', 'dense_28/kernel:0', 'dense_28/bias:0', 'dense_29/kernel:0', 'dense_29/bias:0', 'dense_30/kernel:0', 'dense_30/bias:0', 'dense_31/kernel:0', 'dense_31/bias:0'] when minimizing the loss.\n",
            "1875/1875 [==============================] - 7s 4ms/step - loss: 0.0512 - val_loss: 0.0310\n",
            "Epoch 2/10\n",
            "1875/1875 [==============================] - 6s 3ms/step - loss: 0.0259 - val_loss: 0.0225\n",
            "Epoch 3/10\n",
            "1875/1875 [==============================] - 6s 3ms/step - loss: 0.0207 - val_loss: 0.0194\n",
            "Epoch 4/10\n",
            "1875/1875 [==============================] - 6s 3ms/step - loss: 0.0186 - val_loss: 0.0180\n",
            "Epoch 5/10\n",
            "1875/1875 [==============================] - 6s 3ms/step - loss: 0.0176 - val_loss: 0.0173\n",
            "Epoch 6/10\n",
            "1875/1875 [==============================] - 6s 3ms/step - loss: 0.0170 - val_loss: 0.0168\n",
            "Epoch 7/10\n",
            "1875/1875 [==============================] - 6s 3ms/step - loss: 0.0166 - val_loss: 0.0166\n",
            "Epoch 8/10\n",
            "1875/1875 [==============================] - 6s 3ms/step - loss: 0.0164 - val_loss: 0.0164\n",
            "Epoch 9/10\n",
            "1875/1875 [==============================] - 6s 3ms/step - loss: 0.0162 - val_loss: 0.0163\n",
            "Epoch 10/10\n",
            "1875/1875 [==============================] - 6s 3ms/step - loss: 0.0161 - val_loss: 0.0162\n"
          ]
        },
        {
          "output_type": "execute_result",
          "data": {
            "text/plain": [
              "<keras.callbacks.History at 0x7fb331870ed0>"
            ]
          },
          "metadata": {},
          "execution_count": 19
        }
      ]
    },
    {
      "cell_type": "markdown",
      "metadata": {
        "id": "wAM1QBhtoC-n"
      },
      "source": [
        "Now that the model is trained, let's test it by encoding and decoding images from the test set."
      ]
    },
    {
      "cell_type": "markdown",
      "metadata": {
        "id": "ANgZR4Jm_-jY"
      },
      "source": [
        "#old code (single layer)\n",
        "\n",
        "encoded_imgs = autoencoder.encoder(x_test).numpy()\n",
        "decoded_imgs = autoencoder.decoder(encoded_imgs).numpy()"
      ]
    },
    {
      "cell_type": "code",
      "metadata": {
        "id": "Pbr5WCj7FQUi"
      },
      "source": [
        "encoded_imgs = autoencoderL0.encoder(x_test).numpy()\n",
        "decoded_imgs = autoencoderL0.decoder(encoded_imgs).numpy()"
      ],
      "execution_count": null,
      "outputs": []
    },
    {
      "cell_type": "code",
      "metadata": {
        "id": "s4LlDOS6FUA1",
        "colab": {
          "base_uri": "https://localhost:8080/",
          "height": 264
        },
        "outputId": "38fcbb52-b3a6-407b-a1eb-bcbedbd66c18"
      },
      "source": [
        "n = 10\n",
        "plt.figure(figsize=(20, 4))\n",
        "for i in range(n):\n",
        "  # display original\n",
        "  ax = plt.subplot(2, n, i + 1)\n",
        "  plt.imshow(x_test[i])\n",
        "  plt.title(\"original\")\n",
        "  plt.gray()\n",
        "  ax.get_xaxis().set_visible(False)\n",
        "  ax.get_yaxis().set_visible(False)\n",
        "\n",
        "  # display reconstruction\n",
        "  ax = plt.subplot(2, n, i + 1 + n)\n",
        "  plt.imshow(decoded_imgs[i])\n",
        "  plt.title(\"reconstructed\")\n",
        "  plt.gray()\n",
        "  ax.get_xaxis().set_visible(False)\n",
        "  ax.get_yaxis().set_visible(False)\n",
        "plt.show()"
      ],
      "execution_count": null,
      "outputs": [
        {
          "output_type": "display_data",
          "data": {
            "image/png": "[encoded data removed]",
            "text/plain": [
              "<Figure size 1440x288 with 20 Axes>"
            ]
          },
          "metadata": {
            "needs_background": "light"
          }
        }
      ]
    }
  ]
}